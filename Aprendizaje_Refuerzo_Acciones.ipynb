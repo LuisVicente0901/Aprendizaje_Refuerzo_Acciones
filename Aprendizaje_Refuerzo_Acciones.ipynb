{
 "cells": [
  {
   "cell_type": "markdown",
   "metadata": {},
   "source": [
    "# Aprendizaje por refuerzo (Reinforcement learning) aplicado a la inversión "
   ]
  },
  {
   "cell_type": "markdown",
   "metadata": {},
   "source": [
    "## Importamos las bibliotecas necesarias."
   ]
  },
  {
   "cell_type": "markdown",
   "metadata": {},
   "source": [
    "Entre las bibliotecas a usar se encuentran: \n",
    "* `gym` para desarrollar y comparar algoritmos de aprendizaje por refuerzo o RL. [Link](https://luisvicente-0901.medium.com/openai-introducci%C3%B3n-e-instalaci%C3%B3n-de-gym-642337349463)\n",
    "* `stable_baselines` para la implementación de algoritmos de RL. [Link](https://stable-baselines.readthedocs.io/en/master/index.html)\n",
    "* `numpy, pandas, matplotlib y time` para el manejo y visualización de los datos\n"
   ]
  },
  {
   "cell_type": "code",
   "execution_count": 1,
   "metadata": {},
   "outputs": [],
   "source": [
    "import gym\n",
    "import gym_anytrading\n",
    "from gym_anytrading.envs import StocksEnv"
   ]
  },
  {
   "cell_type": "code",
   "execution_count": 2,
   "metadata": {},
   "outputs": [
    {
     "name": "stdout",
     "output_type": "stream",
     "text": [
      "WARNING:tensorflow:\n",
      "The TensorFlow contrib module will not be included in TensorFlow 2.0.\n",
      "For more information, please see:\n",
      "  * https://github.com/tensorflow/community/blob/master/rfcs/20180907-contrib-sunset.md\n",
      "  * https://github.com/tensorflow/addons\n",
      "  * https://github.com/tensorflow/io (for I/O related ops)\n",
      "If you depend on functionality not listed there, please file an issue.\n",
      "\n"
     ]
    },
    {
     "name": "stderr",
     "output_type": "stream",
     "text": [
      "C:\\anaconda3\\envs\\venv\\lib\\site-packages\\stable_baselines\\__init__.py:33: UserWarning: stable-baselines is in maintenance mode, please use [Stable-Baselines3 (SB3)](https://github.com/DLR-RM/stable-baselines3) for an up-to-date version. You can find a [migration guide](https://stable-baselines3.readthedocs.io/en/master/guide/migration.html) in SB3 documentation.\n",
      "  \"stable-baselines is in maintenance mode, please use [Stable-Baselines3 (SB3)](https://github.com/DLR-RM/stable-baselines3) for an up-to-date version. You can find a [migration guide](https://stable-baselines3.readthedocs.io/en/master/guide/migration.html) in SB3 documentation.\"\n"
     ]
    }
   ],
   "source": [
    "# Stable baselines - rl stuff\n",
    "from stable_baselines.common.vec_env import DummyVecEnv\n",
    "from stable_baselines import A2C, ACKTR"
   ]
  },
  {
   "cell_type": "code",
   "execution_count": 3,
   "metadata": {},
   "outputs": [],
   "source": [
    "import numpy as np\n",
    "import pandas as pd\n",
    "from matplotlib import pyplot as plt\n",
    "import time"
   ]
  },
  {
   "cell_type": "markdown",
   "metadata": {},
   "source": [
    "Obtención de los datos, para este caso usarmemos los datos de las acciones de América Móvil comprendidos entre el cuatro de enero del 2010 al treinta de diciembre del 2016"
   ]
  },
  {
   "cell_type": "code",
   "execution_count": 4,
   "metadata": {},
   "outputs": [
    {
     "data": {
      "text/html": [
       "<div>\n",
       "<style scoped>\n",
       "    .dataframe tbody tr th:only-of-type {\n",
       "        vertical-align: middle;\n",
       "    }\n",
       "\n",
       "    .dataframe tbody tr th {\n",
       "        vertical-align: top;\n",
       "    }\n",
       "\n",
       "    .dataframe thead th {\n",
       "        text-align: right;\n",
       "    }\n",
       "</style>\n",
       "<table border=\"1\" class=\"dataframe\">\n",
       "  <thead>\n",
       "    <tr style=\"text-align: right;\">\n",
       "      <th></th>\n",
       "      <th>Open</th>\n",
       "      <th>High</th>\n",
       "      <th>Low</th>\n",
       "      <th>Close</th>\n",
       "      <th>Adj Close</th>\n",
       "      <th>Volume</th>\n",
       "    </tr>\n",
       "    <tr>\n",
       "      <th>Date</th>\n",
       "      <th></th>\n",
       "      <th></th>\n",
       "      <th></th>\n",
       "      <th></th>\n",
       "      <th></th>\n",
       "      <th></th>\n",
       "    </tr>\n",
       "  </thead>\n",
       "  <tbody>\n",
       "    <tr>\n",
       "      <th>2010-01-04</th>\n",
       "      <td>15.490</td>\n",
       "      <td>15.735</td>\n",
       "      <td>15.490</td>\n",
       "      <td>15.725</td>\n",
       "      <td>12.387055</td>\n",
       "      <td>67643400</td>\n",
       "    </tr>\n",
       "    <tr>\n",
       "      <th>2010-01-05</th>\n",
       "      <td>15.650</td>\n",
       "      <td>15.790</td>\n",
       "      <td>15.550</td>\n",
       "      <td>15.610</td>\n",
       "      <td>12.296466</td>\n",
       "      <td>82436200</td>\n",
       "    </tr>\n",
       "    <tr>\n",
       "      <th>2010-01-06</th>\n",
       "      <td>15.645</td>\n",
       "      <td>15.735</td>\n",
       "      <td>15.500</td>\n",
       "      <td>15.570</td>\n",
       "      <td>12.264956</td>\n",
       "      <td>52401800</td>\n",
       "    </tr>\n",
       "    <tr>\n",
       "      <th>2010-01-07</th>\n",
       "      <td>15.500</td>\n",
       "      <td>15.795</td>\n",
       "      <td>15.395</td>\n",
       "      <td>15.780</td>\n",
       "      <td>12.430378</td>\n",
       "      <td>48285000</td>\n",
       "    </tr>\n",
       "    <tr>\n",
       "      <th>2010-01-08</th>\n",
       "      <td>15.635</td>\n",
       "      <td>15.775</td>\n",
       "      <td>15.555</td>\n",
       "      <td>15.675</td>\n",
       "      <td>12.347667</td>\n",
       "      <td>32203200</td>\n",
       "    </tr>\n",
       "  </tbody>\n",
       "</table>\n",
       "</div>"
      ],
      "text/plain": [
       "              Open    High     Low   Close  Adj Close    Volume\n",
       "Date                                                           \n",
       "2010-01-04  15.490  15.735  15.490  15.725  12.387055  67643400\n",
       "2010-01-05  15.650  15.790  15.550  15.610  12.296466  82436200\n",
       "2010-01-06  15.645  15.735  15.500  15.570  12.264956  52401800\n",
       "2010-01-07  15.500  15.795  15.395  15.780  12.430378  48285000\n",
       "2010-01-08  15.635  15.775  15.555  15.675  12.347667  32203200"
      ]
     },
     "execution_count": 4,
     "metadata": {},
     "output_type": "execute_result"
    }
   ],
   "source": [
    "df = pd.read_csv('C:/Users/Luis Vicente/Documents/Tesis/Proyecto Tesis/Prediccion-ML/datos_A_Movil.csv')\n",
    "df['Date'] = pd.to_datetime(df['Date'])\n",
    "df.dtypes\n",
    "df.set_index('Date', inplace=True)\n",
    "#df=df.drop(['Adj Close','Volume','High','Open','Low'],axis=1)\n",
    "df.head()"
   ]
  },
  {
   "cell_type": "markdown",
   "metadata": {},
   "source": [
    "## Primera parte: Tomando acciones del agente aleatorias."
   ]
  },
  {
   "cell_type": "markdown",
   "metadata": {},
   "source": [
    "Lo primero que se hará es crear el ambiente en donde el agente interectuará, para esto se usa la función `gym.make` con los parametros:\n",
    "* 'stocks-v0': Clase concreta que hereda TradingEnv e implementa sus métodos abstractos para el mercados de valores.\n",
    "* df: Datos que se usarán para el algoritmo y con los cuales el agente interactuará. [Link](https://github.com/AminHP/gym-anytrading)\n",
    "* frame_bound: Intervalo de datos que estarán disponibles para el agente. Por ejemplo si se elige frame_bound=(1,100) se estarán tomando los primeros 100 datos.\n",
    "* window_size: Cantidad de datos que formarán conjuntos de observaciones de manera que el agente los analice y retorne una acción. Si se toma window_size=5 se agruparán los datos de 5 en cinco de manera que el agente analizará los datos $n-5,n-4,...,n-1$ y retornará una acción para el dato $n$. \n",
    "\n",
    "Es importante mencionar que el límite inferior del intervalo elegido en frame bound debe ser mayor o igual al número elegido en `window_size` ya que si `frame_bound=(1,100)` y `window_size=5` entonces se estarían tomando los 5 datos anteriores al primer dato del dataframe lo que generaría un error. Por lo que para corregir el error se debe incrementar el límite inferior del intervalo o disminuir el valor de `window_size` a 1.\n",
    "\n",
    "La siguiente línea de código muestra una propiedad del ambiente \"env\" el cual imprime un arreglo con forma (o shape) (100,2) pues son  100 observaciones indicadas en `frame_bound` y 2 columnas. Por defecto el algortimos usará los precios de Cierre o Close de las acciones, y estos precios representarán la primera columna mientras que la segunda es el resultado de restar el precio del día $t-1$ al precio del día $t$"
   ]
  },
  {
   "cell_type": "code",
   "execution_count": 5,
   "metadata": {},
   "outputs": [
    {
     "data": {
      "text/plain": [
       "array([[ 1.57250004e+01,  0.00000000e+00],\n",
       "       [ 1.56099997e+01, -1.15000725e-01],\n",
       "       [ 1.55699997e+01, -3.99999619e-02],\n",
       "       [ 1.57799997e+01,  2.10000038e-01],\n",
       "       [ 1.56750002e+01, -1.04999542e-01],\n",
       "       [ 1.58750000e+01,  1.99999809e-01],\n",
       "       [ 1.58999996e+01,  2.49996185e-02],\n",
       "       [ 1.58999996e+01,  0.00000000e+00],\n",
       "       [ 1.51300001e+01, -7.69999504e-01],\n",
       "       [ 1.47749996e+01, -3.55000496e-01],\n",
       "       [ 1.49499998e+01,  1.75000191e-01],\n",
       "       [ 1.48299999e+01, -1.19999886e-01],\n",
       "       [ 1.43699999e+01, -4.60000038e-01],\n",
       "       [ 1.41750002e+01, -1.94999695e-01],\n",
       "       [ 1.40699997e+01, -1.05000496e-01],\n",
       "       [ 1.37950001e+01, -2.74999619e-01],\n",
       "       [ 1.40950003e+01,  3.00000191e-01],\n",
       "       [ 1.41250000e+01,  2.99997330e-02],\n",
       "       [ 1.45000000e+01,  3.75000000e-01],\n",
       "       [ 1.42900000e+01, -2.10000038e-01],\n",
       "       [ 1.45150003e+01,  2.25000381e-01],\n",
       "       [ 1.48800001e+01,  3.64999771e-01],\n",
       "       [ 1.45349998e+01, -3.45000267e-01],\n",
       "       [ 1.46350002e+01,  1.00000381e-01],\n",
       "       [ 1.43500004e+01, -2.84999847e-01],\n",
       "       [ 1.44200001e+01,  6.99996948e-02],\n",
       "       [ 1.42399998e+01, -1.80000305e-01],\n",
       "       [ 1.44650002e+01,  2.25000381e-01],\n",
       "       [ 1.44350004e+01, -2.99997330e-02],\n",
       "       [ 1.44899998e+01,  5.49993515e-02],\n",
       "       [ 1.48000002e+01,  3.10000420e-01],\n",
       "       [ 1.48149996e+01,  1.49993896e-02],\n",
       "       [ 1.46499996e+01, -1.64999962e-01],\n",
       "       [ 1.45400000e+01, -1.09999657e-01],\n",
       "       [ 1.43599997e+01, -1.80000305e-01],\n",
       "       [ 1.43050003e+01, -5.49993515e-02],\n",
       "       [ 1.42849998e+01, -2.00004578e-02],\n",
       "       [ 1.42200003e+01, -6.49995804e-02],\n",
       "       [ 1.42449999e+01,  2.49996185e-02],\n",
       "       [ 1.41549997e+01, -9.00001526e-02],\n",
       "       [ 1.43000002e+01,  1.45000458e-01],\n",
       "       [ 1.45950003e+01,  2.95000076e-01],\n",
       "       [ 1.46000004e+01,  5.00011444e-03],\n",
       "       [ 1.48000002e+01,  1.99999809e-01],\n",
       "       [ 1.49049997e+01,  1.04999542e-01],\n",
       "       [ 1.49300003e+01,  2.50005722e-02],\n",
       "       [ 1.50450001e+01,  1.14999771e-01],\n",
       "       [ 1.50550003e+01,  1.00002289e-02],\n",
       "       [ 1.50000000e+01, -5.50003052e-02],\n",
       "       [ 1.52150002e+01,  2.15000153e-01],\n",
       "       [ 1.53149996e+01,  9.99994278e-02],\n",
       "       [ 1.54150000e+01,  1.00000381e-01],\n",
       "       [ 1.54250002e+01,  1.00002289e-02],\n",
       "       [ 1.54750004e+01,  5.00001907e-02],\n",
       "       [ 1.55550003e+01,  7.99999237e-02],\n",
       "       [ 1.55299997e+01, -2.50005722e-02],\n",
       "       [ 1.55000000e+01, -2.99997330e-02],\n",
       "       [ 1.55400000e+01,  3.99999619e-02],\n",
       "       [ 1.57349997e+01,  1.94999695e-01],\n",
       "       [ 1.57550001e+01,  2.00004578e-02],\n",
       "       [ 1.55649996e+01, -1.90000534e-01],\n",
       "       [ 1.58199997e+01,  2.55000114e-01],\n",
       "       [ 1.58299999e+01,  1.00002289e-02],\n",
       "       [ 1.56599998e+01, -1.70000076e-01],\n",
       "       [ 1.53750000e+01, -2.84999847e-01],\n",
       "       [ 1.55950003e+01,  2.20000267e-01],\n",
       "       [ 1.56199999e+01,  2.49996185e-02],\n",
       "       [ 1.56700001e+01,  5.00001907e-02],\n",
       "       [ 1.58050003e+01,  1.35000229e-01],\n",
       "       [ 1.59399996e+01,  1.34999275e-01],\n",
       "       [ 1.58400002e+01, -9.99994278e-02],\n",
       "       [ 1.56350002e+01, -2.04999924e-01],\n",
       "       [ 1.56400003e+01,  5.00011444e-03],\n",
       "       [ 1.54300003e+01, -2.10000038e-01],\n",
       "       [ 1.56250000e+01,  1.94999695e-01],\n",
       "       [ 1.56999998e+01,  7.49998093e-02],\n",
       "       [ 1.56700001e+01, -2.99997330e-02],\n",
       "       [ 1.54499998e+01, -2.20000267e-01],\n",
       "       [ 1.55799999e+01,  1.30000114e-01],\n",
       "       [ 1.55950003e+01,  1.50003433e-02],\n",
       "       [ 1.58900003e+01,  2.95000076e-01],\n",
       "       [ 1.58050003e+01, -8.50000381e-02],\n",
       "       [ 1.58199997e+01,  1.49993896e-02],\n",
       "       [ 1.54499998e+01, -3.69999886e-01],\n",
       "       [ 1.54350004e+01, -1.49993896e-02],\n",
       "       [ 1.57100000e+01,  2.74999619e-01],\n",
       "       [ 1.56350002e+01, -7.49998093e-02],\n",
       "       [ 1.56999998e+01,  6.49995804e-02],\n",
       "       [ 1.56300001e+01, -6.99996948e-02],\n",
       "       [ 1.54799995e+01, -1.50000572e-01],\n",
       "       [ 1.54300003e+01, -4.99992371e-02],\n",
       "       [ 1.53500004e+01, -7.99999237e-02],\n",
       "       [ 1.54300003e+01,  7.99999237e-02],\n",
       "       [ 1.53350000e+01, -9.50002670e-02],\n",
       "       [ 1.50400000e+01, -2.95000076e-01],\n",
       "       [ 1.51450005e+01,  1.05000496e-01],\n",
       "       [ 1.50900002e+01, -5.50003052e-02],\n",
       "       [ 1.52250004e+01,  1.35000229e-01],\n",
       "       [ 1.54600000e+01,  2.34999657e-01],\n",
       "       [ 1.53450003e+01, -1.14999771e-01]])"
      ]
     },
     "execution_count": 5,
     "metadata": {},
     "output_type": "execute_result"
    }
   ],
   "source": [
    "env = gym.make('stocks-v0', df=df,frame_bound=(1,100), window_size=1)\n",
    "env.signal_features"
   ]
  },
  {
   "cell_type": "markdown",
   "metadata": {},
   "source": [
    "Lo siguiente es mostrar el espacio de acciones que se tienen en el ambiente, en este caso solo se tienen 2 acciones, que son comprar o vender la acción."
   ]
  },
  {
   "cell_type": "code",
   "execution_count": null,
   "metadata": {},
   "outputs": [],
   "source": [
    "env.action_space"
   ]
  },
  {
   "cell_type": "markdown",
   "metadata": {},
   "source": [
    "A continuación agregamos una semilla para poder reproducir los resultados obtenidos, esto se obtiene con el método `env.action_space.seed()` y en esta caso usando la semilla 0.\n",
    "Despues se procede a reiniciar el ambiente con el métod `env.reset()` y a continuación se genera un ciclo que se romperá cuando la variable `done` (cuyo valor por defecto es False) sea True.\n",
    "Dentro del ciclo se generan acciones aleatorias dentro del espacio posible de acciones vistas en el código anterior usando `action=env.action_space.sample()`.\n",
    "Posteriormente para cada paso se selecciona una acción de las contenidas en la variable action y se generan 4 variables:\n",
    "* n_state: La observación del estado en el que se encuentra el agente al realizar la acción\n",
    "* redard: La recompensa (sea positiva o negativa) obtenida de realizar la acción\n",
    "* done: Variable booleana que representa el momento en el que el objetivo fue alcanzado o se debe reestablecer el ambiente\n",
    "* info: Diccionario que contiene 'total_reward' (recompensa total), 'total_profit' (total de rendimiento) y 'position' que representa la acción que se tomó, en donde $0$ es vender y $1$ es comprar"
   ]
  },
  {
   "cell_type": "code",
   "execution_count": 6,
   "metadata": {},
   "outputs": [
    {
     "name": "stdout",
     "output_type": "stream",
     "text": [
      "info {'total_reward': -0.25000000000000355, 'total_profit': 0.6698292994062117, 'position': 1}\n"
     ]
    }
   ],
   "source": [
    "env.action_space.seed(0)\n",
    "state = env.reset()\n",
    "while True: \n",
    "    action = env.action_space.sample()\n",
    "    n_state, reward, done, info = env.step(action)\n",
    "    if done: \n",
    "        print(\"info\", info)\n",
    "        break"
   ]
  },
  {
   "cell_type": "markdown",
   "metadata": {},
   "source": [
    "Al imprimir la varialbe `info` notamos que el 'total_profit' es de 0.6698 lo que implica una pérdida, ya que si invertimos $\\$100$ obtendremos $100*0.6698=\\$66.98$ lo que implica que ni siquiera se obtuvo de vuelta el monto inicial que se invirtió, por lo que se busca tener un `total_profit>1` para obtener rendimientos positivos"
   ]
  },
  {
   "cell_type": "markdown",
   "metadata": {},
   "source": [
    "A continuación se muestra la gráfica de los primeros 100 precios de cierre del dataframe y además se incluyen las acciones que el agente tomó en cada punto, donde el círculo rojo representa la acción 0 o vender, mientras que el círculo verde es la acción 1 o comprar"
   ]
  },
  {
   "cell_type": "code",
   "execution_count": 7,
   "metadata": {
    "scrolled": true
   },
   "outputs": [
    {
     "data": {
      "image/png": "[encoded data removed]",
      "text/plain": [
       "<Figure size 1080x432 with 1 Axes>"
      ]
     },
     "metadata": {
      "needs_background": "light"
     },
     "output_type": "display_data"
    }
   ],
   "source": [
    "plt.figure(figsize=(15,6))\n",
    "plt.cla()\n",
    "env.render_all()\n",
    "plt.show()"
   ]
  },
  {
   "cell_type": "markdown",
   "metadata": {},
   "source": [
    "## Segunda parte: Entrenando al agente usando un modelo A2C."
   ]
  },
  {
   "cell_type": "markdown",
   "metadata": {},
   "source": [
    "Lo primero es crear el ambiente con `gym.make` casi de la misma forma que en antes, solo que ahora se usa la función `lambda` para crear el ambiente y posteriormente usando el método `DummyVecEnv` se crea un vector de ambientes, llamado `env` y que servirá para entrenar al agente de RL."
   ]
  },
  {
   "cell_type": "code",
   "execution_count": 8,
   "metadata": {},
   "outputs": [],
   "source": [
    "env_maker = lambda: gym.make('stocks-v0', df=df ,frame_bound=(1,100), window_size=1)\n",
    "env = DummyVecEnv([env_maker])"
   ]
  },
  {
   "cell_type": "markdown",
   "metadata": {},
   "source": [
    "A continuación se procede a crear el modelo `A2C` ([Link](https://stable-baselines.readthedocs.io/en/master/modules/a2c.html)) pasando como parametros :\n",
    "* policy: Es la política que usará el modelo, pueden ser MlpPolicy, MlpLstmPolicy, MlpLnLstmPolicy, CnnPolicy, CnnLstmPolicy, CnnLnLstmPolicy y la elección dependerá de los datos y el resultado buscado. Para cada política los parametros del modelo `A2C` cambiarán\n",
    "* env: Ambiente usado para el entrenamiento\n",
    "* verbose: Parametro con el cual se indicará si se desea imprimir el proceso de entrenamiento, con las posibles opcines 0 no se imprime la información, 1 se imprime la información del entrenamiento , 2 se imprime tensorflow debug\n",
    "* seed: Parametro para fijar la semilla para efectos de reproducir los resultados.\n",
    "\n",
    "Finalmente usando el método `.learn()` se entrena el modelo, su principal parametro `total_timesteps` es el número total de muestras a usar para el entrenamiento.\n",
    "\n",
    "Para este ejemplo se usa la política `MlpLstmPolicy` que consiste en el uso de una capa Long Short-Term Memory (LSTM) con una red Multilayer Perceptron (MLP) para la extracción de características. Adempas se usa `total_timesteps=5500`"
   ]
  },
  {
   "cell_type": "code",
   "execution_count": 9,
   "metadata": {},
   "outputs": [
    {
     "name": "stdout",
     "output_type": "stream",
     "text": [
      "WARNING:tensorflow:From C:\\anaconda3\\envs\\venv\\lib\\site-packages\\stable_baselines\\common\\misc_util.py:26: The name tf.set_random_seed is deprecated. Please use tf.compat.v1.set_random_seed instead.\n",
      "\n",
      "WARNING:tensorflow:From C:\\anaconda3\\envs\\venv\\lib\\site-packages\\stable_baselines\\common\\tf_util.py:191: The name tf.ConfigProto is deprecated. Please use tf.compat.v1.ConfigProto instead.\n",
      "\n",
      "WARNING:tensorflow:From C:\\anaconda3\\envs\\venv\\lib\\site-packages\\stable_baselines\\common\\tf_util.py:200: The name tf.Session is deprecated. Please use tf.compat.v1.Session instead.\n",
      "\n",
      "WARNING:tensorflow:From C:\\anaconda3\\envs\\venv\\lib\\site-packages\\stable_baselines\\common\\policies.py:116: The name tf.variable_scope is deprecated. Please use tf.compat.v1.variable_scope instead.\n",
      "\n",
      "WARNING:tensorflow:From C:\\anaconda3\\envs\\venv\\lib\\site-packages\\stable_baselines\\common\\input.py:25: The name tf.placeholder is deprecated. Please use tf.compat.v1.placeholder instead.\n",
      "\n",
      "WARNING:tensorflow:From C:\\anaconda3\\envs\\venv\\lib\\site-packages\\stable_baselines\\common\\policies.py:420: flatten (from tensorflow.python.layers.core) is deprecated and will be removed in a future version.\n",
      "Instructions for updating:\n",
      "Use keras.layers.flatten instead.\n",
      "WARNING:tensorflow:From C:\\anaconda3\\envs\\venv\\lib\\site-packages\\tensorflow_core\\python\\layers\\core.py:332: Layer.apply (from tensorflow.python.keras.engine.base_layer) is deprecated and will be removed in a future version.\n",
      "Instructions for updating:\n",
      "Please use `layer.__call__` method instead.\n",
      "WARNING:tensorflow:From C:\\anaconda3\\envs\\venv\\lib\\site-packages\\stable_baselines\\common\\tf_layers.py:123: The name tf.get_variable is deprecated. Please use tf.compat.v1.get_variable instead.\n",
      "\n",
      "WARNING:tensorflow:From C:\\anaconda3\\envs\\venv\\lib\\site-packages\\stable_baselines\\common\\distributions.py:326: The name tf.random_uniform is deprecated. Please use tf.random.uniform instead.\n",
      "\n",
      "WARNING:tensorflow:From C:\\anaconda3\\envs\\venv\\lib\\site-packages\\stable_baselines\\common\\distributions.py:327: The name tf.log is deprecated. Please use tf.math.log instead.\n",
      "\n",
      "WARNING:tensorflow:From C:\\anaconda3\\envs\\venv\\lib\\site-packages\\stable_baselines\\a2c\\a2c.py:160: The name tf.summary.scalar is deprecated. Please use tf.compat.v1.summary.scalar instead.\n",
      "\n",
      "WARNING:tensorflow:From C:\\anaconda3\\envs\\venv\\lib\\site-packages\\stable_baselines\\common\\tf_util.py:449: The name tf.get_collection is deprecated. Please use tf.compat.v1.get_collection instead.\n",
      "\n",
      "WARNING:tensorflow:From C:\\anaconda3\\envs\\venv\\lib\\site-packages\\stable_baselines\\common\\tf_util.py:449: The name tf.GraphKeys is deprecated. Please use tf.compat.v1.GraphKeys instead.\n",
      "\n",
      "WARNING:tensorflow:From C:\\anaconda3\\envs\\venv\\lib\\site-packages\\tensorflow_core\\python\\ops\\clip_ops.py:301: where (from tensorflow.python.ops.array_ops) is deprecated and will be removed in a future version.\n",
      "Instructions for updating:\n",
      "Use tf.where in 2.0, which has the same broadcast rule as np.where\n",
      "WARNING:tensorflow:From C:\\anaconda3\\envs\\venv\\lib\\site-packages\\stable_baselines\\a2c\\a2c.py:184: The name tf.train.RMSPropOptimizer is deprecated. Please use tf.compat.v1.train.RMSPropOptimizer instead.\n",
      "\n",
      "WARNING:tensorflow:From C:\\anaconda3\\envs\\venv\\lib\\site-packages\\tensorflow_core\\python\\training\\rmsprop.py:119: calling Ones.__init__ (from tensorflow.python.ops.init_ops) with dtype is deprecated and will be removed in a future version.\n",
      "Instructions for updating:\n",
      "Call initializer instance with the dtype argument instead of passing it to the constructor\n",
      "WARNING:tensorflow:From C:\\anaconda3\\envs\\venv\\lib\\site-packages\\stable_baselines\\a2c\\a2c.py:194: The name tf.global_variables_initializer is deprecated. Please use tf.compat.v1.global_variables_initializer instead.\n",
      "\n",
      "WARNING:tensorflow:From C:\\anaconda3\\envs\\venv\\lib\\site-packages\\stable_baselines\\a2c\\a2c.py:196: The name tf.summary.merge_all is deprecated. Please use tf.compat.v1.summary.merge_all instead.\n",
      "\n",
      "---------------------------------\n",
      "| explained_variance | 0.000448 |\n",
      "| fps                | 8        |\n",
      "| nupdates           | 1        |\n",
      "| policy_entropy     | 0.693    |\n",
      "| total_timesteps    | 5        |\n",
      "| value_loss         | 0.0724   |\n",
      "---------------------------------\n",
      "---------------------------------\n",
      "| explained_variance | -0.00888 |\n",
      "| fps                | 198      |\n",
      "| nupdates           | 100      |\n",
      "| policy_entropy     | 0.693    |\n",
      "| total_timesteps    | 500      |\n",
      "| value_loss         | 0.0496   |\n",
      "---------------------------------\n",
      "---------------------------------\n",
      "| explained_variance | 0.00303  |\n",
      "| fps                | 201      |\n",
      "| nupdates           | 200      |\n",
      "| policy_entropy     | 0.693    |\n",
      "| total_timesteps    | 1000     |\n",
      "| value_loss         | 0.0898   |\n",
      "---------------------------------\n",
      "---------------------------------\n",
      "| explained_variance | -0.0011  |\n",
      "| fps                | 199      |\n",
      "| nupdates           | 300      |\n",
      "| policy_entropy     | 0.693    |\n",
      "| total_timesteps    | 1500     |\n",
      "| value_loss         | 0.0744   |\n",
      "---------------------------------\n",
      "----------------------------------\n",
      "| explained_variance | -0.000692 |\n",
      "| fps                | 202       |\n",
      "| nupdates           | 400       |\n",
      "| policy_entropy     | 0.693     |\n",
      "| total_timesteps    | 2000      |\n",
      "| value_loss         | 0.0133    |\n",
      "----------------------------------\n",
      "---------------------------------\n",
      "| explained_variance | -0.0017  |\n",
      "| fps                | 201      |\n",
      "| nupdates           | 500      |\n",
      "| policy_entropy     | 0.693    |\n",
      "| total_timesteps    | 2500     |\n",
      "| value_loss         | 0.0622   |\n",
      "---------------------------------\n",
      "---------------------------------\n",
      "| explained_variance | 0.0624   |\n",
      "| fps                | 208      |\n",
      "| nupdates           | 600      |\n",
      "| policy_entropy     | 0.693    |\n",
      "| total_timesteps    | 3000     |\n",
      "| value_loss         | 2.03e-05 |\n",
      "---------------------------------\n",
      "---------------------------------\n",
      "| explained_variance | 0.0542   |\n",
      "| fps                | 208      |\n",
      "| nupdates           | 700      |\n",
      "| policy_entropy     | 0.691    |\n",
      "| total_timesteps    | 3500     |\n",
      "| value_loss         | 0.00654  |\n",
      "---------------------------------\n",
      "---------------------------------\n",
      "| explained_variance | -0.00327 |\n",
      "| fps                | 206      |\n",
      "| nupdates           | 800      |\n",
      "| policy_entropy     | 0.693    |\n",
      "| total_timesteps    | 4000     |\n",
      "| value_loss         | 0.0568   |\n",
      "---------------------------------\n",
      "---------------------------------\n",
      "| explained_variance | -117     |\n",
      "| fps                | 206      |\n",
      "| nupdates           | 900      |\n",
      "| policy_entropy     | 0.693    |\n",
      "| total_timesteps    | 4500     |\n",
      "| value_loss         | 0.122    |\n",
      "---------------------------------\n",
      "---------------------------------\n",
      "| explained_variance | -0.102   |\n",
      "| fps                | 207      |\n",
      "| nupdates           | 1000     |\n",
      "| policy_entropy     | 0.691    |\n",
      "| total_timesteps    | 5000     |\n",
      "| value_loss         | 0.00371  |\n",
      "---------------------------------\n",
      "---------------------------------\n",
      "| explained_variance | 0.0277   |\n",
      "| fps                | 209      |\n",
      "| nupdates           | 1100     |\n",
      "| policy_entropy     | 0.691    |\n",
      "| total_timesteps    | 5500     |\n",
      "| value_loss         | 0.245    |\n",
      "---------------------------------\n"
     ]
    },
    {
     "data": {
      "text/plain": [
       "<stable_baselines.a2c.a2c.A2C at 0x170d19b9780>"
      ]
     },
     "execution_count": 9,
     "metadata": {},
     "output_type": "execute_result"
    }
   ],
   "source": [
    "model = A2C('MlpLstmPolicy', env, verbose=1,seed=0) \n",
    "model.learn(total_timesteps=5500)"
   ]
  },
  {
   "cell_type": "markdown",
   "metadata": {},
   "source": [
    "Se puede observar en el proceso de entrenamiento anterior ciertas variables entre las que resaltan dos, una es `explained_variance` que representa la varianza explicada por el modelo, se busca que esta varianza explicada sea muy cercana a 1. Mientras que la otra variable es `value_loss` y muestra la pérdida o el error del modelo, y se desea que sea muy cercano a cero.\n",
    "\n",
    "Finalmente repetimos el proceso que se hizo anteriormente para obtener la recompensa total, total de rendimiento y la posición del agente usando ahora el modelo entrenado anteriormente. Para esto son necesarios dos cambios:\n",
    "* Cambiar el intervalo de datos `frame_bound`: Esto ya que se entrenó el agente con un intervalo de datos, y para probar el modelo es necesario usar distintos datos a los usados para entrenar.\n",
    "* Ya no se toman acciones aleatorias, ahora se usan las acciones que se obtienen de usar el método `.predict()` del modelo entrenado aplicado a las observaciones que se van obteniendo en cada iteración."
   ]
  },
  {
   "cell_type": "code",
   "execution_count": 10,
   "metadata": {},
   "outputs": [
    {
     "name": "stdout",
     "output_type": "stream",
     "text": [
      "info {'total_reward': 0.6050033569335955, 'total_profit': 0.8418325404665984, 'position': 0}\n"
     ]
    }
   ],
   "source": [
    "env = gym.make('stocks-v0', df=df, frame_bound=(101,151), window_size=1)\n",
    "obs = env.reset()\n",
    "\n",
    "while True: \n",
    "    obs = obs[np.newaxis, ...]\n",
    "    action, _states = model.predict(obs)\n",
    "    obs, rewards, done, info = env.step(action)\n",
    "    if done:\n",
    "        print(\"info\", info)\n",
    "        break"
   ]
  },
  {
   "cell_type": "markdown",
   "metadata": {},
   "source": [
    "Como vemos, el total de rendimiento (`total_profit=0.863053`) obtenido entrenando el modelo es mayor que cuando se eligieron acciones aleatorias, lo que muestra que entrenar el modelo mejora los resultados. Sin embargo el rendimiento sigue siendo menor que 1, lo que implica una pérdida.\n",
    "\n",
    "Lo primero que se hará para solucionar este problema es crear un ciclo que itere mientras el rendimiento total sea menor que 1 (`total_profit<1`) y en el momento en que se obtenga un rendimiento mayor que 1 (tener ganancias) se termina el ciclo."
   ]
  },
  {
   "cell_type": "code",
   "execution_count": 11,
   "metadata": {},
   "outputs": [
    {
     "name": "stdout",
     "output_type": "stream",
     "text": [
      "info {'total_reward': 1.8449983596801758, 'total_profit': 1.0111230166924245, 'position': 0}\n",
      "Se toma 166.3352653980255 segundos.\n"
     ]
    }
   ],
   "source": [
    "start = time.time()\n",
    "info={'total_reward': 0,'total_profit': 0,'position': 0}\n",
    "while info['total_profit']<1:\n",
    "    env = gym.make('stocks-v0', df=df, frame_bound=(101,151), window_size=1)\n",
    "    obs = env.reset()\n",
    "    while True: \n",
    "        obs = obs[np.newaxis, ...]\n",
    "        action, _states = model.predict(obs)\n",
    "        obs, rewards, done, info = env.step(action)\n",
    "        if done:\n",
    "            break\n",
    "print(\"info\", info)\n",
    "print(\"Se toma\", time.time() - start, \"segundos.\")   "
   ]
  },
  {
   "cell_type": "code",
   "execution_count": 12,
   "metadata": {},
   "outputs": [
    {
     "data": {
      "image/png": "[encoded data removed]",
      "text/plain": [
       "<Figure size 1080x432 with 1 Axes>"
      ]
     },
     "metadata": {
      "needs_background": "light"
     },
     "output_type": "display_data"
    }
   ],
   "source": [
    "plt.figure(figsize=(15,6))\n",
    "plt.cla()\n",
    "env.render_all()\n",
    "plt.show()"
   ]
  },
  {
   "cell_type": "markdown",
   "metadata": {},
   "source": [
    "Para este ciclo, además de imprimir el contenido de la variable `info` se imprime el tiempo que se tardó el ciclo, es decir, el tiempo que se tarda en encontrar un conjunto de acciones que devuelva un rendimiento mayor a 1, es decir, que se obtenga una ganancia.\n",
    "\n",
    "Se debe mencionar que, a pesar de que en los casos anteriores se usaban semillas para poder reproducir los resultados, en este caso no se puede agregar una semilla debido a la aleatoriedad del método `predict()` por lo que cada que vez que se corra ese conjunto de líneas de código dará resultados distintos."
   ]
  },
  {
   "cell_type": "markdown",
   "metadata": {},
   "source": [
    "## Tercera parte: Tomar datos más recientes para obtener mejores resultados."
   ]
  },
  {
   "cell_type": "markdown",
   "metadata": {},
   "source": [
    "Los cambios realizados en los siguientes bloques de código se pueden resumir en lo siguiente\n",
    "* Se cambió el intervalo de datos tanto de entrenamiento como de prueba de manera que el agente tenga acceso a los datos más recientes del dataframe.\n",
    "- Para el entrenamiento se usa `frame_bound=(1600,1720)`\n",
    "- Para la prueba se usa `frame_bound=(1721,1751)`\n",
    "* Se usa `window_size=5`"
   ]
  },
  {
   "cell_type": "code",
   "execution_count": 13,
   "metadata": {},
   "outputs": [],
   "source": [
    "env_maker = lambda: gym.make('stocks-v0', df=df ,frame_bound=(1600,1720), window_size=5)\n",
    "env = DummyVecEnv([env_maker])"
   ]
  },
  {
   "cell_type": "code",
   "execution_count": 14,
   "metadata": {},
   "outputs": [
    {
     "name": "stdout",
     "output_type": "stream",
     "text": [
      "---------------------------------\n",
      "| explained_variance | -109     |\n",
      "| fps                | 10       |\n",
      "| nupdates           | 1        |\n",
      "| policy_entropy     | 0.685    |\n",
      "| total_timesteps    | 5        |\n",
      "| value_loss         | 9.07e-05 |\n",
      "---------------------------------\n",
      "---------------------------------\n",
      "| explained_variance | -0.00218 |\n",
      "| fps                | 176      |\n",
      "| nupdates           | 100      |\n",
      "| policy_entropy     | 0.681    |\n",
      "| total_timesteps    | 500      |\n",
      "| value_loss         | 0.0488   |\n",
      "---------------------------------\n",
      "---------------------------------\n",
      "| explained_variance | -0.00615 |\n",
      "| fps                | 188      |\n",
      "| nupdates           | 200      |\n",
      "| policy_entropy     | 0.681    |\n",
      "| total_timesteps    | 1000     |\n",
      "| value_loss         | 0.0649   |\n",
      "---------------------------------\n",
      "---------------------------------\n",
      "| explained_variance | -0.0499  |\n",
      "| fps                | 195      |\n",
      "| nupdates           | 300      |\n",
      "| policy_entropy     | 0.681    |\n",
      "| total_timesteps    | 1500     |\n",
      "| value_loss         | 0.00275  |\n",
      "---------------------------------\n",
      "---------------------------------\n",
      "| explained_variance | -0.0165  |\n",
      "| fps                | 202      |\n",
      "| nupdates           | 400      |\n",
      "| policy_entropy     | 0.682    |\n",
      "| total_timesteps    | 2000     |\n",
      "| value_loss         | 0.00441  |\n",
      "---------------------------------\n",
      "---------------------------------\n",
      "| explained_variance | 0.42     |\n",
      "| fps                | 203      |\n",
      "| nupdates           | 500      |\n",
      "| policy_entropy     | 0.684    |\n",
      "| total_timesteps    | 2500     |\n",
      "| value_loss         | 0.00115  |\n",
      "---------------------------------\n",
      "---------------------------------\n",
      "| explained_variance | -0.00066 |\n",
      "| fps                | 203      |\n",
      "| nupdates           | 600      |\n",
      "| policy_entropy     | 0.683    |\n",
      "| total_timesteps    | 3000     |\n",
      "| value_loss         | 0.0363   |\n",
      "---------------------------------\n",
      "---------------------------------\n",
      "| explained_variance | 0.025    |\n",
      "| fps                | 205      |\n",
      "| nupdates           | 700      |\n",
      "| policy_entropy     | 0.682    |\n",
      "| total_timesteps    | 3500     |\n",
      "| value_loss         | 0.00452  |\n",
      "---------------------------------\n",
      "---------------------------------\n",
      "| explained_variance | 0.0176   |\n",
      "| fps                | 206      |\n",
      "| nupdates           | 800      |\n",
      "| policy_entropy     | 0.686    |\n",
      "| total_timesteps    | 4000     |\n",
      "| value_loss         | 0.0123   |\n",
      "---------------------------------\n",
      "---------------------------------\n",
      "| explained_variance | -0.112   |\n",
      "| fps                | 208      |\n",
      "| nupdates           | 900      |\n",
      "| policy_entropy     | 0.688    |\n",
      "| total_timesteps    | 4500     |\n",
      "| value_loss         | 0.0179   |\n",
      "---------------------------------\n",
      "---------------------------------\n",
      "| explained_variance | -0.835   |\n",
      "| fps                | 209      |\n",
      "| nupdates           | 1000     |\n",
      "| policy_entropy     | 0.693    |\n",
      "| total_timesteps    | 5000     |\n",
      "| value_loss         | 0.0603   |\n",
      "---------------------------------\n",
      "---------------------------------\n",
      "| explained_variance | 0.819    |\n",
      "| fps                | 210      |\n",
      "| nupdates           | 1100     |\n",
      "| policy_entropy     | 0.69     |\n",
      "| total_timesteps    | 5500     |\n",
      "| value_loss         | 4.73e-06 |\n",
      "---------------------------------\n"
     ]
    },
    {
     "data": {
      "text/plain": [
       "<stable_baselines.a2c.a2c.A2C at 0x170d1aefef0>"
      ]
     },
     "execution_count": 14,
     "metadata": {},
     "output_type": "execute_result"
    }
   ],
   "source": [
    "model = A2C('MlpLstmPolicy', env, verbose=1,seed=0) \n",
    "model.learn(total_timesteps=5500)\n"
   ]
  },
  {
   "cell_type": "code",
   "execution_count": 15,
   "metadata": {},
   "outputs": [
    {
     "name": "stdout",
     "output_type": "stream",
     "text": [
      "info {'total_reward': 1.8600015640258842, 'total_profit': 1.0602757698670164, 'position': 1}\n",
      "it took 0.5098423957824707 seconds.\n"
     ]
    }
   ],
   "source": [
    "start = time.time()\n",
    "info={'total_reward': 0,'total_profit': 0,'position': 0}\n",
    "while info['total_profit']<1:\n",
    "    env = gym.make('stocks-v0', df=df, frame_bound=(1721,1751), window_size=5)\n",
    "    obs = env.reset()\n",
    "    while True: \n",
    "        obs = obs[np.newaxis, ...]\n",
    "        action, _states = model.predict(obs)\n",
    "        obs, rewards, done, info = env.step(action)\n",
    "        if done:\n",
    "            break\n",
    "print(\"info\", info)\n",
    "print(\"it took\", time.time() - start, \"seconds.\")   "
   ]
  },
  {
   "cell_type": "code",
   "execution_count": 16,
   "metadata": {
    "scrolled": true
   },
   "outputs": [
    {
     "data": {
      "image/png": "[encoded data removed]",
      "text/plain": [
       "<Figure size 1080x432 with 1 Axes>"
      ]
     },
     "metadata": {
      "needs_background": "light"
     },
     "output_type": "display_data"
    }
   ],
   "source": [
    "plt.figure(figsize=(15,6))\n",
    "plt.cla()\n",
    "env.render_all()\n",
    "plt.show()"
   ]
  },
  {
   "cell_type": "markdown",
   "metadata": {},
   "source": [
    "Como se observa, en este caso se obtienen mejores resultados y en menor tiempo al usar datos más recientes."
   ]
  },
  {
   "cell_type": "markdown",
   "metadata": {},
   "source": [
    "## Cuarta parte: Selección de otros precios para el agente"
   ]
  },
  {
   "cell_type": "markdown",
   "metadata": {},
   "source": [
    "Como se comentó con anterioridad, por defecto se usan los precios de cierre de la acción, pero no siempre se desea trabajar con estos precios, por lo que a continuación se presenta una manera de usar cualquier otra variable del dataframe para que el agente tome decisiones.\n",
    "\n",
    "Lo primero es hacer una función que reciba como parametro un ambiente en el cual se especifique \n",
    "* start: Diferencia entre el límite inferior del intervalo definido por el parametro `frame_bound` y el valor de `window_size`\n",
    "* end: Límite superior del intervalo definido por el parametro `frame_bound`\n",
    "* prices: Variable del precio que se quiere usar en lugar de la variable `Close`\n",
    "* signal_features: Variables explicativas que se usarán para entrenar el modelo y cuyos datos los usará el agente para tomar decisiones\n",
    "\n",
    "Una vez creada la función continuamos construyendo una clase que reciba todos los parametros necesarios para construir un ambiente (como `frame_bound`,`window_size` o el dataframe `df`) y aplicará la función creada con anterioridad (en este caso la función lleva por nombre `my_process_data`)\n",
    "\n",
    "Finalmente podemos crear el ambiente usando la clase construida (en nuestro caso `MyCustomEnv`) y proceder como se ha hecho antes.\n",
    "\n",
    "Podemos observar que al usar la propiedad `.signal_features` obtenemos un arreglo que contendrán los precios de las variables seleccionadas como `signal_features`."
   ]
  },
  {
   "cell_type": "code",
   "execution_count": 17,
   "metadata": {
    "scrolled": true
   },
   "outputs": [
    {
     "data": {
      "text/plain": [
       "array([[11.43000031, 11.55000019, 11.59000015],\n",
       "       [11.47000027, 11.52000046, 11.60999966],\n",
       "       [11.39999962, 11.56000042, 11.63000011],\n",
       "       [11.43000031, 11.51000023, 11.56000042],\n",
       "       [11.40999985, 11.5       , 11.60000038],\n",
       "       [11.46000004, 11.55000019, 11.56999969],\n",
       "       [11.25      , 11.48999977, 11.56000042],\n",
       "       [11.14999962, 11.30000019, 11.35999966],\n",
       "       [11.21000004, 11.28999996, 11.39999962],\n",
       "       [11.25      , 11.31999969, 11.39000034],\n",
       "       [11.27999973, 11.43000031, 11.46000004],\n",
       "       [11.30000019, 11.35999966, 11.55000019],\n",
       "       [11.44999981, 11.55000019, 11.78999996],\n",
       "       [11.47000027, 11.75      , 11.78999996],\n",
       "       [11.27000046, 11.53999996, 11.53999996],\n",
       "       [11.02000046, 11.27999973, 11.27999973],\n",
       "       [10.77000046, 11.06000042, 11.07999992],\n",
       "       [10.96000004, 10.96000004, 11.28999996],\n",
       "       [11.        , 11.22999954, 11.26000023],\n",
       "       [11.14000034, 11.30000019, 11.36999989],\n",
       "       [11.30000019, 11.31000042, 11.51000023],\n",
       "       [11.22999954, 11.43999958, 11.44999981],\n",
       "       [11.22999954, 11.31000042, 11.40999985],\n",
       "       [11.25      , 11.39000034, 11.43000031],\n",
       "       [10.80000019, 10.84000015, 11.19999981],\n",
       "       [10.80000019, 11.02000046, 11.02000046],\n",
       "       [10.96000004, 11.06999969, 11.15999985],\n",
       "       [11.03999996, 11.14999962, 11.47999954],\n",
       "       [11.05000019, 11.31999969, 11.42000008],\n",
       "       [11.18999958, 11.22000027, 11.44999981],\n",
       "       [11.28999996, 11.40999985, 11.47999954],\n",
       "       [11.31000042, 11.34000015, 11.60000038],\n",
       "       [11.11999989, 11.39999962, 11.39999962],\n",
       "       [11.14999962, 11.25      , 11.43999958],\n",
       "       [11.22000027, 11.31000042, 11.35999966],\n",
       "       [11.30000019, 11.32999992, 11.5       ],\n",
       "       [11.19999981, 11.38000011, 11.47000027],\n",
       "       [11.13000011, 11.31999969, 11.35000038],\n",
       "       [11.19999981, 11.25      , 11.44999981],\n",
       "       [11.31999969, 11.47000027, 11.59000015],\n",
       "       [11.31000042, 11.44999981, 11.64999962],\n",
       "       [11.55000019, 11.55000019, 11.68000031],\n",
       "       [11.59000015, 11.64999962, 11.92000008],\n",
       "       [11.81000042, 11.84000015, 11.97000027],\n",
       "       [11.56000042, 11.86999989, 11.90999985],\n",
       "       [11.47999954, 11.64999962, 11.75      ],\n",
       "       [11.5       , 11.63000011, 11.68000031],\n",
       "       [11.30000019, 11.57999992, 11.72000027],\n",
       "       [10.94999981, 11.35999966, 11.35999966],\n",
       "       [10.39999962, 10.69999981, 10.80000019],\n",
       "       [10.73999977, 10.76000023, 10.96000004],\n",
       "       [10.75      , 10.85999966, 10.93999958],\n",
       "       [10.76000023, 10.96000004, 10.96000004],\n",
       "       [10.67000008, 10.76000023, 10.93000031],\n",
       "       [10.67000008, 10.80000019, 10.82999992],\n",
       "       [10.71000004, 10.82999992, 10.89000034],\n",
       "       [10.81000042, 10.85000038, 11.11999989],\n",
       "       [10.98999977, 11.03999996, 11.22000027],\n",
       "       [11.07999992, 11.07999992, 11.31999969],\n",
       "       [10.98999977, 11.25      , 11.25      ],\n",
       "       [11.        , 11.02999973, 11.14999962],\n",
       "       [10.94999981, 11.10999966, 11.18999958],\n",
       "       [10.97999954, 11.01000023, 11.18000031],\n",
       "       [10.93000031, 11.14000034, 11.14000034],\n",
       "       [10.97999954, 11.        , 11.10999966],\n",
       "       [10.90999985, 11.02000046, 11.05000019],\n",
       "       [10.88000011, 11.        , 11.05000019],\n",
       "       [10.77000046, 10.90999985, 10.94999981],\n",
       "       [10.84000015, 10.85000038, 11.07999992],\n",
       "       [10.85000038, 11.03999996, 11.18000031],\n",
       "       [10.97000027, 10.97000027, 11.14999962],\n",
       "       [11.07999992, 11.13000011, 11.23999977],\n",
       "       [10.98999977, 11.17000008, 11.28999996],\n",
       "       [10.98999977, 11.30000019, 11.30000019],\n",
       "       [10.90999985, 11.07999992, 11.15999985],\n",
       "       [10.93000031, 11.02000046, 11.09000015],\n",
       "       [10.81000042, 11.        , 11.        ],\n",
       "       [10.77000046, 10.93000031, 10.96000004],\n",
       "       [10.78999996, 10.85000038, 11.03999996],\n",
       "       [10.85999966, 10.97999954, 11.05000019],\n",
       "       [10.86999989, 10.86999989, 11.10999966],\n",
       "       [10.97000027, 11.02000046, 11.22000027],\n",
       "       [11.10000038, 11.18000031, 11.30000019],\n",
       "       [11.09000015, 11.13000011, 11.25      ],\n",
       "       [10.90999985, 11.14000034, 11.14000034],\n",
       "       [10.96000004, 11.02999973, 11.13000011],\n",
       "       [10.96000004, 11.05000019, 11.25      ],\n",
       "       [11.19999981, 11.23999977, 11.52000046],\n",
       "       [11.27999973, 11.36999989, 11.47000027],\n",
       "       [11.17000008, 11.43000031, 11.43000031],\n",
       "       [11.        , 11.22000027, 11.22000027],\n",
       "       [11.06999969, 11.09000015, 11.30000019],\n",
       "       [11.10999966, 11.27000046, 11.39999962],\n",
       "       [11.03999996, 11.22999954, 11.22999954],\n",
       "       [11.02999973, 11.05000019, 11.21000004],\n",
       "       [11.02000046, 11.14000034, 11.22999954],\n",
       "       [11.02000046, 11.10999966, 11.22999954],\n",
       "       [11.05000019, 11.18999958, 11.18999958],\n",
       "       [11.02000046, 11.11999989, 11.26000023],\n",
       "       [11.21000004, 11.21000004, 11.40999985],\n",
       "       [11.23999977, 11.31000042, 11.47000027],\n",
       "       [11.28999996, 11.28999996, 11.40999985],\n",
       "       [11.11999989, 11.28999996, 11.28999996],\n",
       "       [10.98999977, 11.22000027, 11.22999954],\n",
       "       [10.86999989, 11.02000046, 11.03999996],\n",
       "       [10.89999962, 11.02999973, 11.10999966],\n",
       "       [11.06999969, 11.10000038, 11.22999954],\n",
       "       [11.06999969, 11.14999962, 11.22999954],\n",
       "       [11.06999969, 11.06999969, 11.21000004],\n",
       "       [11.11999989, 11.18000031, 11.28999996],\n",
       "       [11.15999985, 11.18000031, 11.28999996],\n",
       "       [11.06999969, 11.14999962, 11.23999977],\n",
       "       [11.06999969, 11.14999962, 11.22999954],\n",
       "       [11.18999958, 11.22999954, 12.55000019],\n",
       "       [12.27000046, 12.43000031, 12.84000015],\n",
       "       [12.28999996, 12.43999958, 12.64999962],\n",
       "       [12.15999985, 12.53999996, 12.81000042],\n",
       "       [11.82999992, 12.25      , 12.27999973],\n",
       "       [11.89999962, 12.        , 12.22999954],\n",
       "       [12.05000019, 12.17000008, 12.52999973],\n",
       "       [11.88000011, 11.88000011, 12.55000019],\n",
       "       [11.68000031, 12.02999973, 12.30000019],\n",
       "       [11.5       , 11.80000019, 11.96000004],\n",
       "       [11.56000042, 11.57999992, 11.94999981],\n",
       "       [11.57999992, 11.77999973, 12.06999969]])"
      ]
     },
     "execution_count": 17,
     "metadata": {},
     "output_type": "execute_result"
    }
   ],
   "source": [
    "def my_process_data(env):\n",
    "    start = env.frame_bound[0] - env.window_size\n",
    "    end = env.frame_bound[1]\n",
    "    prices = env.df.loc[:, 'Low'].to_numpy()[start:end]\n",
    "    signal_features = env.df.loc[:, ['Low','Open','High']].to_numpy()[start:end]\n",
    "    return prices, signal_features\n",
    "\n",
    "class MyCustomEnv(StocksEnv):\n",
    "    _process_data = my_process_data\n",
    "\n",
    "\n",
    "\n",
    "env2 = MyCustomEnv(df=df, window_size=5, frame_bound=(1600,1720))\n",
    "\n",
    "env2.signal_features\n"
   ]
  },
  {
   "cell_type": "code",
   "execution_count": 18,
   "metadata": {},
   "outputs": [],
   "source": [
    "env_maker = lambda: env2\n",
    "env = DummyVecEnv([env_maker])"
   ]
  },
  {
   "cell_type": "code",
   "execution_count": 19,
   "metadata": {
    "scrolled": true
   },
   "outputs": [
    {
     "name": "stdout",
     "output_type": "stream",
     "text": [
      "---------------------------------\n",
      "| explained_variance | -163     |\n",
      "| fps                | 12       |\n",
      "| nupdates           | 1        |\n",
      "| policy_entropy     | 0.691    |\n",
      "| total_timesteps    | 5        |\n",
      "| value_loss         | 9e-05    |\n",
      "---------------------------------\n",
      "---------------------------------\n",
      "| explained_variance | 0.00532  |\n",
      "| fps                | 199      |\n",
      "| nupdates           | 100      |\n",
      "| policy_entropy     | 0.69     |\n",
      "| total_timesteps    | 500      |\n",
      "| value_loss         | 0.0355   |\n",
      "---------------------------------\n",
      "---------------------------------\n",
      "| explained_variance | 0.00347  |\n",
      "| fps                | 203      |\n",
      "| nupdates           | 200      |\n",
      "| policy_entropy     | 0.69     |\n",
      "| total_timesteps    | 1000     |\n",
      "| value_loss         | 0.158    |\n",
      "---------------------------------\n",
      "---------------------------------\n",
      "| explained_variance | -0.00133 |\n",
      "| fps                | 207      |\n",
      "| nupdates           | 300      |\n",
      "| policy_entropy     | 0.69     |\n",
      "| total_timesteps    | 1500     |\n",
      "| value_loss         | 0.0114   |\n",
      "---------------------------------\n",
      "---------------------------------\n",
      "| explained_variance | 0.0144   |\n",
      "| fps                | 208      |\n",
      "| nupdates           | 400      |\n",
      "| policy_entropy     | 0.69     |\n",
      "| total_timesteps    | 2000     |\n",
      "| value_loss         | 0.00111  |\n",
      "---------------------------------\n",
      "---------------------------------\n",
      "| explained_variance | -0.106   |\n",
      "| fps                | 210      |\n",
      "| nupdates           | 500      |\n",
      "| policy_entropy     | 0.691    |\n",
      "| total_timesteps    | 2500     |\n",
      "| value_loss         | 0.00879  |\n",
      "---------------------------------\n",
      "---------------------------------\n",
      "| explained_variance | 0.552    |\n",
      "| fps                | 212      |\n",
      "| nupdates           | 600      |\n",
      "| policy_entropy     | 0.691    |\n",
      "| total_timesteps    | 3000     |\n",
      "| value_loss         | 1.48e-05 |\n",
      "---------------------------------\n",
      "---------------------------------\n",
      "| explained_variance | -0.00475 |\n",
      "| fps                | 213      |\n",
      "| nupdates           | 700      |\n",
      "| policy_entropy     | 0.691    |\n",
      "| total_timesteps    | 3500     |\n",
      "| value_loss         | 0.0298   |\n",
      "---------------------------------\n",
      "---------------------------------\n",
      "| explained_variance | 0.0298   |\n",
      "| fps                | 219      |\n",
      "| nupdates           | 800      |\n",
      "| policy_entropy     | 0.685    |\n",
      "| total_timesteps    | 4000     |\n",
      "| value_loss         | 0.0234   |\n",
      "---------------------------------\n",
      "---------------------------------\n",
      "| explained_variance | -4.85    |\n",
      "| fps                | 226      |\n",
      "| nupdates           | 900      |\n",
      "| policy_entropy     | 0.692    |\n",
      "| total_timesteps    | 4500     |\n",
      "| value_loss         | 0.00981  |\n",
      "---------------------------------\n",
      "---------------------------------\n",
      "| explained_variance | -1.13    |\n",
      "| fps                | 232      |\n",
      "| nupdates           | 1000     |\n",
      "| policy_entropy     | 0.69     |\n",
      "| total_timesteps    | 5000     |\n",
      "| value_loss         | 0.051    |\n",
      "---------------------------------\n",
      "---------------------------------\n",
      "| explained_variance | -0.0162  |\n",
      "| fps                | 238      |\n",
      "| nupdates           | 1100     |\n",
      "| policy_entropy     | 0.693    |\n",
      "| total_timesteps    | 5500     |\n",
      "| value_loss         | 0.00736  |\n",
      "---------------------------------\n"
     ]
    },
    {
     "data": {
      "text/plain": [
       "<stable_baselines.a2c.a2c.A2C at 0x170d7d3b240>"
      ]
     },
     "execution_count": 19,
     "metadata": {},
     "output_type": "execute_result"
    }
   ],
   "source": [
    "model = A2C('MlpLstmPolicy', env, verbose=1,seed=0) \n",
    "model.learn(total_timesteps=5500)"
   ]
  },
  {
   "cell_type": "code",
   "execution_count": 20,
   "metadata": {},
   "outputs": [
    {
     "name": "stdout",
     "output_type": "stream",
     "text": [
      "info {'total_reward': 1.3699989318847656, 'total_profit': 1.021280594329205, 'position': 1}\n",
      "it took 0.46085309982299805 seconds.\n"
     ]
    }
   ],
   "source": [
    "start = time.time()\n",
    "info={'total_reward': 0,'total_profit': 0,'position': 0}\n",
    "while info['total_profit']<1.0:\n",
    "    env = MyCustomEnv(df=df, window_size=5, frame_bound=(1721,1751))\n",
    "    obs = env.reset()\n",
    "    while True: \n",
    "        obs = obs[np.newaxis, ...]\n",
    "        action, _states = model.predict(obs)\n",
    "        obs, rewards, done, info = env.step(action)\n",
    "        if done:\n",
    "            break\n",
    "print(\"info\", info)\n",
    "print (\"it took\", time.time() - start, \"seconds.\")"
   ]
  },
  {
   "cell_type": "code",
   "execution_count": 21,
   "metadata": {},
   "outputs": [
    {
     "data": {
      "image/png": "[encoded data removed]",
      "text/plain": [
       "<Figure size 1080x432 with 1 Axes>"
      ]
     },
     "metadata": {
      "needs_background": "light"
     },
     "output_type": "display_data"
    }
   ],
   "source": [
    "plt.figure(figsize=(15,6))\n",
    "plt.cla()\n",
    "env.render_all()\n",
    "plt.show()"
   ]
  },
  {
   "cell_type": "markdown",
   "metadata": {},
   "source": [
    "Como se puede observar, tenemos ahora la gráfica de los últimos 35 precios `Low` junto con las acciones tomadas por el agente. Notemos que para alcanzar un rendimiento mayor a 1 (para obtener ganancias) se necesitó 0.46 segundos y si se invierten $\\$100$ y se usa la estrategia del agente, terminaría con $\\$ 102.1281$"
   ]
  },
  {
   "cell_type": "markdown",
   "metadata": {},
   "source": [
    "## Quinta parte: Usando modelo ACKTR"
   ]
  },
  {
   "cell_type": "markdown",
   "metadata": {},
   "source": [
    "En esta última parte en lugar de usar el modelo A2C se cambiará por el modelo ACKTR ([Link](https://stable-baselines.readthedocs.io/en/master/modules/acktr.html)). Se procede de la misma manera que con anterioridad, usando los precios de cierre o `Close`."
   ]
  },
  {
   "cell_type": "code",
   "execution_count": 22,
   "metadata": {},
   "outputs": [],
   "source": [
    "env_maker = lambda: gym.make('stocks-v0', df=df ,frame_bound=(1600,1720), window_size=5)\n",
    "env = DummyVecEnv([env_maker])"
   ]
  },
  {
   "cell_type": "code",
   "execution_count": 23,
   "metadata": {},
   "outputs": [
    {
     "name": "stdout",
     "output_type": "stream",
     "text": [
      "WARNING:tensorflow:From C:\\anaconda3\\envs\\venv\\lib\\site-packages\\stable_baselines\\acktr\\acktr.py:176: The name tf.random_normal is deprecated. Please use tf.random.normal instead.\n",
      "\n",
      "WARNING:tensorflow:From C:\\anaconda3\\envs\\venv\\lib\\site-packages\\stable_baselines\\acktr\\kfac.py:99: The name tf.get_default_graph is deprecated. Please use tf.compat.v1.get_default_graph instead.\n",
      "\n",
      "WARNING:tensorflow:From C:\\anaconda3\\envs\\venv\\lib\\site-packages\\stable_baselines\\acktr\\kfac.py:298: The name tf.diag is deprecated. Please use tf.linalg.tensor_diag instead.\n",
      "\n",
      "WARNING:tensorflow:From C:\\anaconda3\\envs\\venv\\lib\\site-packages\\stable_baselines\\acktr\\kfac.py:546: The name tf.assign is deprecated. Please use tf.compat.v1.assign instead.\n",
      "\n",
      "WARNING:tensorflow:From C:\\anaconda3\\envs\\venv\\lib\\site-packages\\stable_baselines\\acktr\\kfac.py:548: The name tf.assign_add is deprecated. Please use tf.compat.v1.assign_add instead.\n",
      "\n",
      "WARNING:tensorflow:From C:\\anaconda3\\envs\\venv\\lib\\site-packages\\stable_baselines\\acktr\\acktr.py:306: The name tf.global_variables is deprecated. Please use tf.compat.v1.global_variables instead.\n",
      "\n",
      "WARNING:tensorflow:From C:\\anaconda3\\envs\\venv\\lib\\site-packages\\stable_baselines\\acktr\\acktr.py:307: The name tf.is_variable_initialized is deprecated. Please use tf.compat.v1.is_variable_initialized instead.\n",
      "\n",
      "WARNING:tensorflow:From C:\\anaconda3\\envs\\venv\\lib\\site-packages\\stable_baselines\\acktr\\kfac.py:973: The name tf.train.MomentumOptimizer is deprecated. Please use tf.compat.v1.train.MomentumOptimizer instead.\n",
      "\n",
      "WARNING:tensorflow:From C:\\anaconda3\\envs\\venv\\lib\\site-packages\\stable_baselines\\acktr\\kfac.py:914: The name tf.mod is deprecated. Please use tf.math.mod instead.\n",
      "\n",
      "WARNING:tensorflow:From C:\\anaconda3\\envs\\venv\\lib\\site-packages\\stable_baselines\\acktr\\kfac.py:621: The name tf.self_adjoint_eig is deprecated. Please use tf.linalg.eigh instead.\n",
      "\n",
      "WARNING:tensorflow:From C:\\anaconda3\\envs\\venv\\lib\\site-packages\\stable_baselines\\acktr\\acktr.py:319: The name tf.variables_initializer is deprecated. Please use tf.compat.v1.variables_initializer instead.\n",
      "\n",
      "---------------------------------\n",
      "| explained_variance | -0.0908  |\n",
      "| fps                | 10       |\n",
      "| nupdates           | 1        |\n",
      "| policy_entropy     | 0.681    |\n",
      "| policy_loss        | -0.0201  |\n",
      "| total_timesteps    | 20       |\n",
      "| value_loss         | 0.00906  |\n",
      "---------------------------------\n",
      "---------------------------------\n",
      "| explained_variance | 0.022    |\n",
      "| fps                | 8        |\n",
      "| nupdates           | 100      |\n",
      "| policy_entropy     | 0.69     |\n",
      "| policy_loss        | -0.267   |\n",
      "| total_timesteps    | 2000     |\n",
      "| value_loss         | 0.192    |\n",
      "---------------------------------\n",
      "---------------------------------\n",
      "| explained_variance | -0.0124  |\n",
      "| fps                | 8        |\n",
      "| nupdates           | 200      |\n",
      "| policy_entropy     | 0.368    |\n",
      "| policy_loss        | -0.119   |\n",
      "| total_timesteps    | 4000     |\n",
      "| value_loss         | 0.0506   |\n",
      "---------------------------------\n"
     ]
    },
    {
     "data": {
      "text/plain": [
       "<stable_baselines.acktr.acktr.ACKTR at 0x170d7d42048>"
      ]
     },
     "execution_count": 23,
     "metadata": {},
     "output_type": "execute_result"
    }
   ],
   "source": [
    "model = ACKTR('MlpLstmPolicy', env, verbose=1,seed=0) \n",
    "model.learn(total_timesteps=5500)"
   ]
  },
  {
   "cell_type": "code",
   "execution_count": 24,
   "metadata": {},
   "outputs": [
    {
     "name": "stdout",
     "output_type": "stream",
     "text": [
      "info {'total_reward': 2.4600000381469673, 'total_profit': 1.1044808036281273, 'position': 1}\n",
      "it took 0.7038097381591797 seconds.\n"
     ]
    }
   ],
   "source": [
    "start = time.time()\n",
    "info={'total_reward': 0,'total_profit': 0,'position': 0}\n",
    "while info['total_profit']<1.1:\n",
    "    env = gym.make('stocks-v0', df=df, frame_bound=(1721,1751), window_size=5)\n",
    "    obs = env.reset()\n",
    "    while True: \n",
    "        obs = obs[np.newaxis, ...]\n",
    "        action, _states = model.predict(obs)\n",
    "        obs, rewards, done, info = env.step(action)\n",
    "        if done:\n",
    "            break\n",
    "print(\"info\", info)\n",
    "print(\"it took\", time.time() - start, \"seconds.\")   "
   ]
  },
  {
   "cell_type": "code",
   "execution_count": 25,
   "metadata": {},
   "outputs": [
    {
     "data": {
      "image/png": "[encoded data removed]",
      "text/plain": [
       "<Figure size 1080x432 with 1 Axes>"
      ]
     },
     "metadata": {
      "needs_background": "light"
     },
     "output_type": "display_data"
    }
   ],
   "source": [
    "plt.figure(figsize=(15,6))\n",
    "plt.cla()\n",
    "env.render_all()\n",
    "plt.show()"
   ]
  },
  {
   "cell_type": "markdown",
   "metadata": {},
   "source": [
    "Con este modelo obtuvimos un rendimiento de 1.10448 en 0.7038 segundos comparado con el rendmiento de 1.06027 en 0.5098 segundos. Por lo que una primera conclusión es pensar que el modelo ACKTR es mejor que el modelo A2C, sin embargo el tiempo que tarda el modelo ACKTR en el proceso de entrenamiento es mayor (no se muestra en el código) que para el caso del modelo A2C, aunado a que el modelo ACKTR tardó 0.1939 segundos más en obtener un rendimiento que es mayor por 0.0442 que el modelo A2C.\n",
    "\n",
    "Así que si se cuenta con suficiente tiempo, se puede optar por elegir el  modeo ACKTR y si se desea invertir el menor tiempo posible se puede emplear el modelo A2C que dará un resultado casi tan bueno como el del modelo ACKTR."
   ]
  }
 ],
 "metadata": {
  "kernelspec": {
   "display_name": "Python 3",
   "language": "python",
   "name": "python3"
  },
  "language_info": {
   "codemirror_mode": {
    "name": "ipython",
    "version": 3
   },
   "file_extension": ".py",
   "mimetype": "text/x-python",
   "name": "python",
   "nbconvert_exporter": "python",
   "pygments_lexer": "ipython3",
   "version": "3.6.10"
  }
 },
 "nbformat": 4,
 "nbformat_minor": 4
}
